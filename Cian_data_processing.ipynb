{
 "cells": [
  {
   "cell_type": "markdown",
   "id": "50cbe7ac-988f-4c4e-b8f0-87de30cb0af9",
   "metadata": {},
   "source": [
    "# Import"
   ]
  },
  {
   "cell_type": "code",
   "execution_count": 1,
   "id": "dd611449-f21d-416e-8ab6-d3c60188d067",
   "metadata": {},
   "outputs": [],
   "source": [
    "import numpy as np\n",
    "import pandas as pd\n",
    "import seaborn as sns\n",
    "import matplotlib.pyplot as plt\n",
    "from typing import *\n",
    "from datetime import datetime\n",
    "\n",
    "import warnings\n",
    "from warnings import simplefilter\n",
    "warnings.filterwarnings(\"ignore\")\n",
    "simplefilter(\"ignore\", category=RuntimeWarning)"
   ]
  },
  {
   "cell_type": "markdown",
   "id": "c868c6dd-247e-4feb-9b1f-2c56a19e95fd",
   "metadata": {},
   "source": [
    "# Загрузка данных"
   ]
  },
  {
   "cell_type": "code",
   "execution_count": 2,
   "id": "a103f4f7-4003-4953-b26a-d83261449f0f",
   "metadata": {},
   "outputs": [],
   "source": [
    "df = pd.read_csv(\"data\\cian.csv\")"
   ]
  },
  {
   "cell_type": "code",
   "execution_count": 3,
   "id": "60d19aa8-6bc9-49aa-8878-63d42ec47b5e",
   "metadata": {},
   "outputs": [
    {
     "data": {
      "text/html": [
       "<div>\n",
       "<style scoped>\n",
       "    .dataframe tbody tr th:only-of-type {\n",
       "        vertical-align: middle;\n",
       "    }\n",
       "\n",
       "    .dataframe tbody tr th {\n",
       "        vertical-align: top;\n",
       "    }\n",
       "\n",
       "    .dataframe thead th {\n",
       "        text-align: right;\n",
       "    }\n",
       "</style>\n",
       "<table border=\"1\" class=\"dataframe\">\n",
       "  <thead>\n",
       "    <tr style=\"text-align: right;\">\n",
       "      <th></th>\n",
       "      <th>Название</th>\n",
       "      <th>Адрес</th>\n",
       "      <th>Метро</th>\n",
       "      <th>Время до метро</th>\n",
       "      <th>Цена</th>\n",
       "      <th>Цена за квадрат</th>\n",
       "      <th>Общая площадь</th>\n",
       "      <th>Жилая площадь</th>\n",
       "      <th>Площадь кухни</th>\n",
       "      <th>Этаж</th>\n",
       "      <th>...</th>\n",
       "      <th>Тип перекрытий</th>\n",
       "      <th>Парковка</th>\n",
       "      <th>Подъезды</th>\n",
       "      <th>Отопление</th>\n",
       "      <th>Аварийность</th>\n",
       "      <th>Газоснабжение</th>\n",
       "      <th>Балкон/лоджия</th>\n",
       "      <th>Год сдачи</th>\n",
       "      <th>Дом</th>\n",
       "      <th>Отделка</th>\n",
       "    </tr>\n",
       "  </thead>\n",
       "  <tbody>\n",
       "    <tr>\n",
       "      <th>0</th>\n",
       "      <td>5-комн. квартира, 140,6 м²</td>\n",
       "      <td>Москва, ЦАО, р-н Тверской, ул. Петровка, 20/1</td>\n",
       "      <td>Трубная</td>\n",
       "      <td>5 мин.</td>\n",
       "      <td>8.200000e+07</td>\n",
       "      <td>583215.0</td>\n",
       "      <td>140,6</td>\n",
       "      <td>81,6</td>\n",
       "      <td>15,6</td>\n",
       "      <td>5 из 5</td>\n",
       "      <td>...</td>\n",
       "      <td>Нет информации</td>\n",
       "      <td>Наземная</td>\n",
       "      <td>6.0</td>\n",
       "      <td>Центральное</td>\n",
       "      <td>Нет</td>\n",
       "      <td>Центральное</td>\n",
       "      <td>NaN</td>\n",
       "      <td>NaN</td>\n",
       "      <td>NaN</td>\n",
       "      <td>NaN</td>\n",
       "    </tr>\n",
       "    <tr>\n",
       "      <th>1</th>\n",
       "      <td>Многокомнатная квартира, 190 м²</td>\n",
       "      <td>Москва, ЦАО, р-н Тверской, ул. Большая Дмитров...</td>\n",
       "      <td>Чеховская</td>\n",
       "      <td>7 мин.</td>\n",
       "      <td>8.900000e+07</td>\n",
       "      <td>468421.0</td>\n",
       "      <td>190</td>\n",
       "      <td>126</td>\n",
       "      <td>22</td>\n",
       "      <td>3 из 5</td>\n",
       "      <td>...</td>\n",
       "      <td>Нет информации</td>\n",
       "      <td>Наземная</td>\n",
       "      <td>2.0</td>\n",
       "      <td>Центральное</td>\n",
       "      <td>Нет</td>\n",
       "      <td>Центральное</td>\n",
       "      <td>NaN</td>\n",
       "      <td>NaN</td>\n",
       "      <td>NaN</td>\n",
       "      <td>NaN</td>\n",
       "    </tr>\n",
       "    <tr>\n",
       "      <th>2</th>\n",
       "      <td>Многокомнатная квартира, 950 м²</td>\n",
       "      <td>Москва, ЦАО, р-н Пресненский, Гранатный пер., 8С4</td>\n",
       "      <td>Баррикадная</td>\n",
       "      <td>9 мин.</td>\n",
       "      <td>3.488667e+09</td>\n",
       "      <td>3672281.0</td>\n",
       "      <td>950</td>\n",
       "      <td>NaN</td>\n",
       "      <td>NaN</td>\n",
       "      <td>8 из 8</td>\n",
       "      <td>...</td>\n",
       "      <td>Смешанные</td>\n",
       "      <td>Подземная</td>\n",
       "      <td>2.0</td>\n",
       "      <td>Индивидуальный тепловой пункт</td>\n",
       "      <td>Нет</td>\n",
       "      <td>NaN</td>\n",
       "      <td>1 лоджия, 1 балкон</td>\n",
       "      <td>NaN</td>\n",
       "      <td>NaN</td>\n",
       "      <td>NaN</td>\n",
       "    </tr>\n",
       "    <tr>\n",
       "      <th>3</th>\n",
       "      <td>5-комн. квартира, 200 м²</td>\n",
       "      <td>Москва, ЦАО, р-н Тверской, Тверская ул., 12С7</td>\n",
       "      <td>Пушкинская</td>\n",
       "      <td>3 мин.</td>\n",
       "      <td>7.500000e+07</td>\n",
       "      <td>375000.0</td>\n",
       "      <td>200</td>\n",
       "      <td>120</td>\n",
       "      <td>20</td>\n",
       "      <td>6 из 6</td>\n",
       "      <td>...</td>\n",
       "      <td>Нет информации</td>\n",
       "      <td>Наземная</td>\n",
       "      <td>5.0</td>\n",
       "      <td>Центральное</td>\n",
       "      <td>Нет</td>\n",
       "      <td>Центральное</td>\n",
       "      <td>NaN</td>\n",
       "      <td>NaN</td>\n",
       "      <td>NaN</td>\n",
       "      <td>NaN</td>\n",
       "    </tr>\n",
       "    <tr>\n",
       "      <th>4</th>\n",
       "      <td>4-комн. апартаменты, 207,9 м²</td>\n",
       "      <td>Москва, ЦАО, р-н Тверской, ул. Охотный Ряд, 2</td>\n",
       "      <td>Охотный ряд</td>\n",
       "      <td>2 мин.</td>\n",
       "      <td>4.548896e+08</td>\n",
       "      <td>2188021.0</td>\n",
       "      <td>207,9</td>\n",
       "      <td>NaN</td>\n",
       "      <td>NaN</td>\n",
       "      <td>5 из 15</td>\n",
       "      <td>...</td>\n",
       "      <td>Нет информации</td>\n",
       "      <td>NaN</td>\n",
       "      <td>NaN</td>\n",
       "      <td>Нет информации</td>\n",
       "      <td>Нет</td>\n",
       "      <td>NaN</td>\n",
       "      <td>NaN</td>\n",
       "      <td>NaN</td>\n",
       "      <td>NaN</td>\n",
       "      <td>NaN</td>\n",
       "    </tr>\n",
       "  </tbody>\n",
       "</table>\n",
       "<p>5 rows × 30 columns</p>\n",
       "</div>"
      ],
      "text/plain": [
       "                          Название  \\\n",
       "0       5-комн. квартира, 140,6 м²   \n",
       "1  Многокомнатная квартира, 190 м²   \n",
       "2  Многокомнатная квартира, 950 м²   \n",
       "3         5-комн. квартира, 200 м²   \n",
       "4    4-комн. апартаменты, 207,9 м²   \n",
       "\n",
       "                                               Адрес        Метро  \\\n",
       "0      Москва, ЦАО, р-н Тверской, ул. Петровка, 20/1      Трубная   \n",
       "1  Москва, ЦАО, р-н Тверской, ул. Большая Дмитров...    Чеховская   \n",
       "2  Москва, ЦАО, р-н Пресненский, Гранатный пер., 8С4  Баррикадная   \n",
       "3      Москва, ЦАО, р-н Тверской, Тверская ул., 12С7   Пушкинская   \n",
       "4      Москва, ЦАО, р-н Тверской, ул. Охотный Ряд, 2  Охотный ряд   \n",
       "\n",
       "  Время до метро          Цена  Цена за квадрат Общая площадь Жилая площадь  \\\n",
       "0         5 мин.  8.200000e+07         583215.0         140,6          81,6   \n",
       "1         7 мин.  8.900000e+07         468421.0           190           126   \n",
       "2         9 мин.  3.488667e+09        3672281.0           950           NaN   \n",
       "3         3 мин.  7.500000e+07         375000.0           200           120   \n",
       "4         2 мин.  4.548896e+08        2188021.0         207,9           NaN   \n",
       "\n",
       "  Площадь кухни     Этаж  ...  Тип перекрытий   Парковка Подъезды  \\\n",
       "0          15,6   5 из 5  ...  Нет информации   Наземная      6.0   \n",
       "1            22   3 из 5  ...  Нет информации   Наземная      2.0   \n",
       "2           NaN   8 из 8  ...       Смешанные  Подземная      2.0   \n",
       "3            20   6 из 6  ...  Нет информации   Наземная      5.0   \n",
       "4           NaN  5 из 15  ...  Нет информации        NaN      NaN   \n",
       "\n",
       "                       Отопление Аварийность Газоснабжение  \\\n",
       "0                    Центральное         Нет   Центральное   \n",
       "1                    Центральное         Нет   Центральное   \n",
       "2  Индивидуальный тепловой пункт         Нет           NaN   \n",
       "3                    Центральное         Нет   Центральное   \n",
       "4                 Нет информации         Нет           NaN   \n",
       "\n",
       "        Балкон/лоджия Год сдачи  Дом Отделка  \n",
       "0                 NaN       NaN  NaN     NaN  \n",
       "1                 NaN       NaN  NaN     NaN  \n",
       "2  1 лоджия, 1 балкон       NaN  NaN     NaN  \n",
       "3                 NaN       NaN  NaN     NaN  \n",
       "4                 NaN       NaN  NaN     NaN  \n",
       "\n",
       "[5 rows x 30 columns]"
      ]
     },
     "execution_count": 3,
     "metadata": {},
     "output_type": "execute_result"
    }
   ],
   "source": [
    "df.head()"
   ]
  },
  {
   "cell_type": "code",
   "execution_count": 4,
   "id": "56bed12c-4ab8-4206-9815-3d4ad74efc35",
   "metadata": {},
   "outputs": [
    {
     "data": {
      "text/plain": [
       "(11307, 30)"
      ]
     },
     "execution_count": 4,
     "metadata": {},
     "output_type": "execute_result"
    }
   ],
   "source": [
    "df.shape"
   ]
  },
  {
   "cell_type": "markdown",
   "id": "9e389b25-975d-4f6c-9a10-92f386b1f577",
   "metadata": {},
   "source": [
    "# Общий анализ данных."
   ]
  },
  {
   "cell_type": "code",
   "execution_count": 5,
   "id": "81a1a585-eb02-403e-b10c-bcd2f717a7fc",
   "metadata": {},
   "outputs": [
    {
     "name": "stdout",
     "output_type": "stream",
     "text": [
      "<class 'pandas.core.frame.DataFrame'>\n",
      "RangeIndex: 11307 entries, 0 to 11306\n",
      "Data columns (total 30 columns):\n",
      " #   Column              Non-Null Count  Dtype  \n",
      "---  ------              --------------  -----  \n",
      " 0   Название            11289 non-null  object \n",
      " 1   Адрес               11289 non-null  object \n",
      " 2   Метро               11286 non-null  object \n",
      " 3   Время до метро      11250 non-null  object \n",
      " 4   Цена                11289 non-null  float64\n",
      " 5   Цена за квадрат     11289 non-null  float64\n",
      " 6   Общая площадь       11289 non-null  object \n",
      " 7   Жилая площадь       8656 non-null   object \n",
      " 8   Площадь кухни       9305 non-null   object \n",
      " 9   Этаж                11289 non-null  object \n",
      " 10  Год постройки       9052 non-null   float64\n",
      " 11  Тип жилья           11289 non-null  object \n",
      " 12  Высота потолков     8610 non-null   object \n",
      " 13  Санузел             9866 non-null   object \n",
      " 14  Вид из окон         8584 non-null   object \n",
      " 15  Ремонт              9164 non-null   object \n",
      " 16  Строительная серия  6480 non-null   object \n",
      " 17  Мусоропровод        4907 non-null   object \n",
      " 18  Количество лифтов   8724 non-null   object \n",
      " 19  Тип дома            9055 non-null   object \n",
      " 20  Тип перекрытий      8330 non-null   object \n",
      " 21  Парковка            6627 non-null   object \n",
      " 22  Подъезды            7740 non-null   float64\n",
      " 23  Отопление           8330 non-null   object \n",
      " 24  Аварийность         8330 non-null   object \n",
      " 25  Газоснабжение       3008 non-null   object \n",
      " 26  Балкон/лоджия       5834 non-null   object \n",
      " 27  Год сдачи           1764 non-null   float64\n",
      " 28  Дом                 1140 non-null   object \n",
      " 29  Отделка             1600 non-null   object \n",
      "dtypes: float64(5), object(25)\n",
      "memory usage: 2.6+ MB\n"
     ]
    }
   ],
   "source": [
    "df.info()"
   ]
  },
  {
   "cell_type": "code",
   "execution_count": 6,
   "id": "8d04cdb6-b0e2-4e67-ab73-fd923b98d713",
   "metadata": {},
   "outputs": [
    {
     "name": "stdout",
     "output_type": "stream",
     "text": [
      "Доля пропусков:\n",
      "Название               0.16\n",
      "Адрес                  0.16\n",
      "Метро                  0.19\n",
      "Время до метро         0.50\n",
      "Цена                   0.16\n",
      "Цена за квадрат        0.16\n",
      "Общая площадь          0.16\n",
      "Жилая площадь         23.45\n",
      "Площадь кухни         17.71\n",
      "Этаж                   0.16\n",
      "Год постройки         19.94\n",
      "Тип жилья              0.16\n",
      "Высота потолков       23.85\n",
      "Санузел               12.74\n",
      "Вид из окон           24.08\n",
      "Ремонт                18.95\n",
      "Строительная серия    42.69\n",
      "Мусоропровод          56.60\n",
      "Количество лифтов     22.84\n",
      "Тип дома              19.92\n",
      "Тип перекрытий        26.33\n",
      "Парковка              41.39\n",
      "Подъезды              31.55\n",
      "Отопление             26.33\n",
      "Аварийность           26.33\n",
      "Газоснабжение         73.40\n",
      "Балкон/лоджия         48.40\n",
      "Год сдачи             84.40\n",
      "Дом                   89.92\n",
      "Отделка               85.85\n",
      "dtype: float64\n"
     ]
    }
   ],
   "source": [
    "print(f\"Доля пропусков:\\n{round(df.isna().sum() / df.shape[0] * 100, 2)}\")"
   ]
  },
  {
   "cell_type": "markdown",
   "id": "5dc95c49-6ee9-46ee-9aea-4b5dd7259ca4",
   "metadata": {},
   "source": [
    "<br>\n",
    "Посмотрю на значения признаков у которых больше 70% пропусков в данных.\n",
    "<br><br>"
   ]
  },
  {
   "cell_type": "code",
   "execution_count": 7,
   "id": "6e7e5e87-be7f-4796-96d4-26acfc4ed16c",
   "metadata": {},
   "outputs": [],
   "source": [
    "isna_list = (df.isna().sum() / df.shape[0]\n",
    "             > 0.7).loc[lambda x: x == True].index"
   ]
  },
  {
   "cell_type": "code",
   "execution_count": 8,
   "id": "303fcdf6-01a8-4c78-9d65-734d674da32b",
   "metadata": {},
   "outputs": [
    {
     "name": "stdout",
     "output_type": "stream",
     "text": [
      "Газоснабжение : Газоснабжение\n",
      "NaN            73.397011\n",
      "Центральное    26.461484\n",
      "Автономное      0.141505\n",
      "Name: proportion, dtype: float64\n",
      "\n",
      "Год сдачи : Год сдачи\n",
      "NaN       84.399045\n",
      "2023.0     5.156098\n",
      "2024.0     4.147873\n",
      "2025.0     3.121960\n",
      "2026.0     1.335456\n",
      "2021.0     0.548333\n",
      "2022.0     0.380295\n",
      "2027.0     0.362607\n",
      "2019.0     0.229946\n",
      "2013.0     0.123817\n",
      "2020.0     0.088441\n",
      "2016.0     0.070753\n",
      "2017.0     0.026532\n",
      "2018.0     0.008844\n",
      "Name: proportion, dtype: float64\n",
      "\n",
      "Дом : Дом\n",
      "NaN        89.917750\n",
      "Не сдан     7.933139\n",
      "Сдан        2.149111\n",
      "Name: proportion, dtype: float64\n",
      "\n",
      "Отделка : Отделка\n",
      "NaN                   85.849474\n",
      "Без отделки            7.880074\n",
      "Чистовая               4.315910\n",
      "Предчистовая           0.769435\n",
      "Неизвестно             0.468736\n",
      "Черновая               0.380295\n",
      "С отделкой             0.283011\n",
      "Под ключ               0.035376\n",
      "Чистовая с мебелью     0.017688\n",
      "Name: proportion, dtype: float64\n",
      "\n"
     ]
    }
   ],
   "source": [
    "for col in isna_list:\n",
    "    print(\n",
    "        f'{col} : {df[col].value_counts(normalize=True, dropna=False)*100}\\n')"
   ]
  },
  {
   "cell_type": "markdown",
   "id": "5d421c0e-aecf-462a-8b2d-b7299ccdc03b",
   "metadata": {},
   "source": [
    "В признаке \"Газоснабжение\" нет значения \"без газоснабжения\".Пустые значения говорят об отсутствии газа в доме, либо об отсутствии информации на сайте об этом доме. Так как у нас всего 2 значения, и \"автономное\" попадается только в 0.1%, то решаю этот признак удалить.  <br><br>\n",
    "В признаке \"Год сдачи\" отсутствуют значения <2013 года. Пустые значения могут как раз обозначать этот период сдачи и отсутствие информации на сайте.\n",
    "Так как у нас более менее хорошо заполненный признак \"год постройки\" то думаю что \"год сдачи\" тоже можно удалить<br><br>\n",
    "В признаке \"Дом\" большинство пропусков могут принадлежать старым домам, которые по определению давно сданы. Так как пропусков почти 90% то удалю этот признак.<br><br>\n",
    "В признаке \"Отделка\" скорее всего пропуски также относятся к старым домам. Здесь больше значений чем в предыдущих признаках, которые могут повлиять на цену, в дальнейшем заменю пустые значения на \"неизвестно\"."
   ]
  },
  {
   "cell_type": "code",
   "execution_count": 9,
   "id": "7248e722-c16b-4cd4-9d06-eecf91a32c9f",
   "metadata": {},
   "outputs": [],
   "source": [
    "drop_lst = df[['Строительная серия', 'Аварийность', 'Подъезды']]"
   ]
  },
  {
   "cell_type": "code",
   "execution_count": 10,
   "id": "08d5836d-24cc-482a-960c-9823ef50fa7d",
   "metadata": {},
   "outputs": [
    {
     "name": "stdout",
     "output_type": "stream",
     "text": [
      "Строительная серия : Строительная серия\n",
      "NaN                      42.690369\n",
      "Индивидуальный проект    34.146989\n",
      "II-49                     3.458035\n",
      "П-44                      2.467498\n",
      "II-18                     2.343681\n",
      "                           ...    \n",
      "II-17                     0.008844\n",
      "1МГ-601-Д                 0.008844\n",
      "К-7                       0.008844\n",
      "II-18-02/12               0.008844\n",
      "И-155МК                   0.008844\n",
      "Name: proportion, Length: 67, dtype: float64\n",
      "\n",
      "Аварийность : Аварийность\n",
      "Нет    73.626957\n",
      "NaN    26.328823\n",
      "Да      0.044220\n",
      "Name: proportion, dtype: float64\n",
      "\n",
      "Подъезды : Подъезды\n",
      "NaN      31.546829\n",
      "1.0      13.690634\n",
      "4.0      10.577518\n",
      "3.0       8.720262\n",
      "2.0       8.384187\n",
      "6.0       6.022818\n",
      "5.0       5.076501\n",
      "8.0       3.723357\n",
      "7.0       2.609003\n",
      "10.0      1.972230\n",
      "12.0      1.759972\n",
      "9.0       1.715751\n",
      "11.0      0.884408\n",
      "14.0      0.663306\n",
      "13.0      0.636774\n",
      "15.0      0.477580\n",
      "16.0      0.309543\n",
      "18.0      0.265322\n",
      "21.0      0.238790\n",
      "17.0      0.238790\n",
      "24.0      0.176882\n",
      "22.0      0.168037\n",
      "480.0     0.053064\n",
      "19.0      0.053064\n",
      "20.0      0.026532\n",
      "25.0      0.008844\n",
      "Name: proportion, dtype: float64\n",
      "\n"
     ]
    }
   ],
   "source": [
    "for col in drop_lst:\n",
    "    print(\n",
    "        f'{col} : {df[col].value_counts(normalize=True, dropna=False)*100}\\n')"
   ]
  },
  {
   "cell_type": "markdown",
   "id": "a13243a8-6f8b-41e4-b242-efe8ed39cce4",
   "metadata": {},
   "source": [
    "<br>\n",
    "Удалю строки в которых есть пропуски в признаках: Цена, Метро. Так как цена это целевой признак, а метро так как это важный признак в котором по моему мнению не допустимо заполнение приблизительными значениями.<br> \n",
    "Так же удалю признаки [ \"Строительная серия\",\"Аварийность\", \"Подъезды\"] так как логически они мало влияют на цену либо в них сильно преобладает одно значение и пропуски.\n",
    "<br> \n",
    "<br>"
   ]
  },
  {
   "cell_type": "code",
   "execution_count": 11,
   "id": "d9391a0e-b038-4392-b7e8-f0bddf8fa4b9",
   "metadata": {},
   "outputs": [],
   "source": [
    "df = df.drop(columns=[\"Газоснабжение\", 'Год сдачи', 'Дом',\n",
    "             \"Строительная серия\", \"Аварийность\", \"Подъезды\"]).copy()"
   ]
  },
  {
   "cell_type": "code",
   "execution_count": 12,
   "id": "2feae361-93ba-4724-ac2a-5bc8ed01f607",
   "metadata": {},
   "outputs": [],
   "source": [
    "df = df.drop(df[\"Цена\"].isna().loc[lambda x: x == True].index)"
   ]
  },
  {
   "cell_type": "code",
   "execution_count": 13,
   "id": "66165427-5906-4c51-b052-25d2bafad631",
   "metadata": {},
   "outputs": [],
   "source": [
    "df_clean = df.drop(df[\"Метро\"].isna().loc[lambda x: x ==\n",
    "                   True].index).reset_index(drop=True)"
   ]
  },
  {
   "cell_type": "code",
   "execution_count": 14,
   "id": "4f280f57-0db9-4349-85eb-68c6cc92cf68",
   "metadata": {},
   "outputs": [
    {
     "name": "stdout",
     "output_type": "stream",
     "text": [
      "Доля пропусков:\n",
      "Название              0.00\n",
      "Адрес                 0.00\n",
      "Метро                 0.00\n",
      "Время до метро        0.32\n",
      "Цена                  0.00\n",
      "Цена за квадрат       0.00\n",
      "Общая площадь         0.00\n",
      "Жилая площадь        23.30\n",
      "Площадь кухни        17.56\n",
      "Этаж                  0.00\n",
      "Год постройки        19.80\n",
      "Тип жилья             0.00\n",
      "Высота потолков      23.73\n",
      "Санузел              12.61\n",
      "Вид из окон          23.94\n",
      "Ремонт               18.81\n",
      "Мусоропровод         56.52\n",
      "Количество лифтов    22.73\n",
      "Тип дома             19.78\n",
      "Тип перекрытий       26.20\n",
      "Парковка             41.28\n",
      "Отопление            26.20\n",
      "Балкон/лоджия        48.32\n",
      "Отделка              85.84\n",
      "dtype: float64\n"
     ]
    }
   ],
   "source": [
    "print(\n",
    "    f\"Доля пропусков:\\n{round(df_clean.isna().sum() / df_clean.shape[0] * 100, 2)}\")"
   ]
  },
  {
   "cell_type": "code",
   "execution_count": 15,
   "id": "4eb0faab-0037-4c96-8035-9d12615a7cec",
   "metadata": {},
   "outputs": [
    {
     "data": {
      "text/html": [
       "<div>\n",
       "<style scoped>\n",
       "    .dataframe tbody tr th:only-of-type {\n",
       "        vertical-align: middle;\n",
       "    }\n",
       "\n",
       "    .dataframe tbody tr th {\n",
       "        vertical-align: top;\n",
       "    }\n",
       "\n",
       "    .dataframe thead th {\n",
       "        text-align: right;\n",
       "    }\n",
       "</style>\n",
       "<table border=\"1\" class=\"dataframe\">\n",
       "  <thead>\n",
       "    <tr style=\"text-align: right;\">\n",
       "      <th></th>\n",
       "      <th>Цена</th>\n",
       "      <th>Цена за квадрат</th>\n",
       "      <th>Год постройки</th>\n",
       "    </tr>\n",
       "  </thead>\n",
       "  <tbody>\n",
       "    <tr>\n",
       "      <th>count</th>\n",
       "      <td>1.128600e+04</td>\n",
       "      <td>11286.00</td>\n",
       "      <td>9051.00</td>\n",
       "    </tr>\n",
       "    <tr>\n",
       "      <th>mean</th>\n",
       "      <td>4.890737e+07</td>\n",
       "      <td>490358.41</td>\n",
       "      <td>1983.01</td>\n",
       "    </tr>\n",
       "    <tr>\n",
       "      <th>std</th>\n",
       "      <td>1.124839e+08</td>\n",
       "      <td>381192.21</td>\n",
       "      <td>32.82</td>\n",
       "    </tr>\n",
       "    <tr>\n",
       "      <th>min</th>\n",
       "      <td>1.600000e+06</td>\n",
       "      <td>73509.00</td>\n",
       "      <td>1822.00</td>\n",
       "    </tr>\n",
       "    <tr>\n",
       "      <th>25%</th>\n",
       "      <td>1.320000e+07</td>\n",
       "      <td>291350.00</td>\n",
       "      <td>1963.00</td>\n",
       "    </tr>\n",
       "    <tr>\n",
       "      <th>50%</th>\n",
       "      <td>1.950000e+07</td>\n",
       "      <td>369995.00</td>\n",
       "      <td>1980.00</td>\n",
       "    </tr>\n",
       "    <tr>\n",
       "      <th>75%</th>\n",
       "      <td>3.800000e+07</td>\n",
       "      <td>518519.00</td>\n",
       "      <td>2015.00</td>\n",
       "    </tr>\n",
       "    <tr>\n",
       "      <th>max</th>\n",
       "      <td>3.488667e+09</td>\n",
       "      <td>4998082.00</td>\n",
       "      <td>2023.00</td>\n",
       "    </tr>\n",
       "  </tbody>\n",
       "</table>\n",
       "</div>"
      ],
      "text/plain": [
       "               Цена  Цена за квадрат  Год постройки\n",
       "count  1.128600e+04         11286.00        9051.00\n",
       "mean   4.890737e+07        490358.41        1983.01\n",
       "std    1.124839e+08        381192.21          32.82\n",
       "min    1.600000e+06         73509.00        1822.00\n",
       "25%    1.320000e+07        291350.00        1963.00\n",
       "50%    1.950000e+07        369995.00        1980.00\n",
       "75%    3.800000e+07        518519.00        2015.00\n",
       "max    3.488667e+09       4998082.00        2023.00"
      ]
     },
     "execution_count": 15,
     "metadata": {},
     "output_type": "execute_result"
    }
   ],
   "source": [
    "round(df_clean.describe(), 2)"
   ]
  },
  {
   "cell_type": "code",
   "execution_count": 16,
   "id": "75699979-cc1d-4142-8920-03ef5ee844fc",
   "metadata": {},
   "outputs": [
    {
     "data": {
      "text/html": [
       "<div>\n",
       "<style scoped>\n",
       "    .dataframe tbody tr th:only-of-type {\n",
       "        vertical-align: middle;\n",
       "    }\n",
       "\n",
       "    .dataframe tbody tr th {\n",
       "        vertical-align: top;\n",
       "    }\n",
       "\n",
       "    .dataframe thead th {\n",
       "        text-align: right;\n",
       "    }\n",
       "</style>\n",
       "<table border=\"1\" class=\"dataframe\">\n",
       "  <thead>\n",
       "    <tr style=\"text-align: right;\">\n",
       "      <th></th>\n",
       "      <th>Название</th>\n",
       "      <th>Адрес</th>\n",
       "      <th>Метро</th>\n",
       "      <th>Время до метро</th>\n",
       "      <th>Общая площадь</th>\n",
       "      <th>Жилая площадь</th>\n",
       "      <th>Площадь кухни</th>\n",
       "      <th>Этаж</th>\n",
       "      <th>Тип жилья</th>\n",
       "      <th>Высота потолков</th>\n",
       "      <th>...</th>\n",
       "      <th>Вид из окон</th>\n",
       "      <th>Ремонт</th>\n",
       "      <th>Мусоропровод</th>\n",
       "      <th>Количество лифтов</th>\n",
       "      <th>Тип дома</th>\n",
       "      <th>Тип перекрытий</th>\n",
       "      <th>Парковка</th>\n",
       "      <th>Отопление</th>\n",
       "      <th>Балкон/лоджия</th>\n",
       "      <th>Отделка</th>\n",
       "    </tr>\n",
       "  </thead>\n",
       "  <tbody>\n",
       "    <tr>\n",
       "      <th>count</th>\n",
       "      <td>11286</td>\n",
       "      <td>11286</td>\n",
       "      <td>11286</td>\n",
       "      <td>11250</td>\n",
       "      <td>11286</td>\n",
       "      <td>8656</td>\n",
       "      <td>9304</td>\n",
       "      <td>11286</td>\n",
       "      <td>11286</td>\n",
       "      <td>8608</td>\n",
       "      <td>...</td>\n",
       "      <td>8584</td>\n",
       "      <td>9163</td>\n",
       "      <td>4907</td>\n",
       "      <td>8721</td>\n",
       "      <td>9054</td>\n",
       "      <td>8329</td>\n",
       "      <td>6627</td>\n",
       "      <td>8329</td>\n",
       "      <td>5833</td>\n",
       "      <td>1598</td>\n",
       "    </tr>\n",
       "    <tr>\n",
       "      <th>unique</th>\n",
       "      <td>3736</td>\n",
       "      <td>6132</td>\n",
       "      <td>296</td>\n",
       "      <td>30</td>\n",
       "      <td>2016</td>\n",
       "      <td>916</td>\n",
       "      <td>396</td>\n",
       "      <td>998</td>\n",
       "      <td>6</td>\n",
       "      <td>137</td>\n",
       "      <td>...</td>\n",
       "      <td>3</td>\n",
       "      <td>4</td>\n",
       "      <td>2</td>\n",
       "      <td>44</td>\n",
       "      <td>8</td>\n",
       "      <td>4</td>\n",
       "      <td>4</td>\n",
       "      <td>7</td>\n",
       "      <td>19</td>\n",
       "      <td>8</td>\n",
       "    </tr>\n",
       "    <tr>\n",
       "      <th>top</th>\n",
       "      <td>2-комн. квартира, 45 м²</td>\n",
       "      <td>Москва, ЦАО, р-н Пресненский, 1-й Красногварде...</td>\n",
       "      <td>Арбатская</td>\n",
       "      <td>6 мин.</td>\n",
       "      <td>45</td>\n",
       "      <td>20</td>\n",
       "      <td>6</td>\n",
       "      <td>5 из 5</td>\n",
       "      <td>Вторичка</td>\n",
       "      <td>2,64 м</td>\n",
       "      <td>...</td>\n",
       "      <td>Во двор</td>\n",
       "      <td>Косметический</td>\n",
       "      <td>Да</td>\n",
       "      <td>1 пассажирский, 1 грузовой</td>\n",
       "      <td>Монолитный</td>\n",
       "      <td>Железобетонные</td>\n",
       "      <td>Наземная</td>\n",
       "      <td>Центральное</td>\n",
       "      <td>1 балкон</td>\n",
       "      <td>Без отделки</td>\n",
       "    </tr>\n",
       "    <tr>\n",
       "      <th>freq</th>\n",
       "      <td>130</td>\n",
       "      <td>33</td>\n",
       "      <td>145</td>\n",
       "      <td>914</td>\n",
       "      <td>162</td>\n",
       "      <td>239</td>\n",
       "      <td>872</td>\n",
       "      <td>236</td>\n",
       "      <td>8276</td>\n",
       "      <td>1618</td>\n",
       "      <td>...</td>\n",
       "      <td>4302</td>\n",
       "      <td>2938</td>\n",
       "      <td>3884</td>\n",
       "      <td>2657</td>\n",
       "      <td>3983</td>\n",
       "      <td>6046</td>\n",
       "      <td>3556</td>\n",
       "      <td>6832</td>\n",
       "      <td>2750</td>\n",
       "      <td>889</td>\n",
       "    </tr>\n",
       "  </tbody>\n",
       "</table>\n",
       "<p>4 rows × 21 columns</p>\n",
       "</div>"
      ],
      "text/plain": [
       "                       Название  \\\n",
       "count                     11286   \n",
       "unique                     3736   \n",
       "top     2-комн. квартира, 45 м²   \n",
       "freq                        130   \n",
       "\n",
       "                                                    Адрес      Метро  \\\n",
       "count                                               11286      11286   \n",
       "unique                                               6132        296   \n",
       "top     Москва, ЦАО, р-н Пресненский, 1-й Красногварде...  Арбатская   \n",
       "freq                                                   33        145   \n",
       "\n",
       "       Время до метро Общая площадь Жилая площадь Площадь кухни    Этаж  \\\n",
       "count           11250         11286          8656          9304   11286   \n",
       "unique             30          2016           916           396     998   \n",
       "top            6 мин.            45            20             6  5 из 5   \n",
       "freq              914           162           239           872     236   \n",
       "\n",
       "       Тип жилья Высота потолков  ... Вид из окон         Ремонт Мусоропровод  \\\n",
       "count      11286            8608  ...        8584           9163         4907   \n",
       "unique         6             137  ...           3              4            2   \n",
       "top     Вторичка          2,64 м  ...     Во двор  Косметический           Да   \n",
       "freq        8276            1618  ...        4302           2938         3884   \n",
       "\n",
       "                 Количество лифтов    Тип дома  Тип перекрытий  Парковка  \\\n",
       "count                         8721        9054            8329      6627   \n",
       "unique                          44           8               4         4   \n",
       "top     1 пассажирский, 1 грузовой  Монолитный  Железобетонные  Наземная   \n",
       "freq                          2657        3983            6046      3556   \n",
       "\n",
       "          Отопление Балкон/лоджия      Отделка  \n",
       "count          8329          5833         1598  \n",
       "unique            7            19            8  \n",
       "top     Центральное      1 балкон  Без отделки  \n",
       "freq           6832          2750          889  \n",
       "\n",
       "[4 rows x 21 columns]"
      ]
     },
     "execution_count": 16,
     "metadata": {},
     "output_type": "execute_result"
    }
   ],
   "source": [
    "df_clean.describe(include=[\"object\", \"bool\"])"
   ]
  },
  {
   "cell_type": "markdown",
   "id": "b8073e59-a056-4b10-9e57-fe2f5a1b8334",
   "metadata": {},
   "source": [
    "# Преобразование признаков."
   ]
  },
  {
   "cell_type": "markdown",
   "id": "6cc9ead7-b1e5-48e2-a7f5-262df7acff9d",
   "metadata": {},
   "source": [
    "## Жилая площадь, Площадь кухни, Общая площадь, Высота потолков."
   ]
  },
  {
   "cell_type": "markdown",
   "id": "fb7b34a1-8e4c-45a0-9430-e06e26ec7c35",
   "metadata": {},
   "source": [
    "<br>\n",
    "Заменю все запятые на точки и удалю лишние пробелы.\n",
    "<br>\n",
    "<br>"
   ]
  },
  {
   "cell_type": "code",
   "execution_count": 17,
   "id": "ab36404b-bdf2-4269-aa77-f8ef3e10333c",
   "metadata": {},
   "outputs": [],
   "source": [
    "def replace_comma(data: pd.DataFrame, lst: list, inplace_true: bool = False) -> pd.DataFrame:\n",
    "    \"\"\"\n",
    "    Замена запятых на точки в столбцах и удаление лишних символов (\\xa0)\n",
    "    :param data: дата фрейм\n",
    "    :param lst: список из названий колонок\n",
    "    :param inplace_true: True - изменения сразу применятся к data, Fasle - создается новый дата фрейм\n",
    "    \"\"\"\n",
    "    data_new = data.copy()\n",
    "    data_new[lst] = data[lst].apply(lambda x: x.str.split(\n",
    "        \"\\xa0\").str[0].str.replace(\",\", \".\").astype(float)).copy()\n",
    "    if inplace_true == True:\n",
    "        data = data_new.copy()\n",
    "        return data\n",
    "    else:\n",
    "        return data_new"
   ]
  },
  {
   "cell_type": "code",
   "execution_count": 18,
   "id": "b745fc3c-08c7-4598-9823-41a04d87a7b1",
   "metadata": {
    "scrolled": true
   },
   "outputs": [],
   "source": [
    "df_clean = replace_comma(df_clean, [\n",
    "                         \"Жилая площадь\", \"Площадь кухни\", \"Общая площадь\", \"Высота потолков\"]).copy()"
   ]
  },
  {
   "cell_type": "markdown",
   "id": "76284ded-a48b-489e-9dfe-6e014a11fe72",
   "metadata": {},
   "source": [
    "## Время до метро."
   ]
  },
  {
   "cell_type": "markdown",
   "id": "9635deff-58b8-4d2a-9253-5812273d39b2",
   "metadata": {},
   "source": [
    "Удалю лишние символы."
   ]
  },
  {
   "cell_type": "code",
   "execution_count": 19,
   "id": "02ec0886-ce8a-4010-9fa1-aaa273eb34a2",
   "metadata": {},
   "outputs": [],
   "source": [
    "df_clean[\"Время до метро\"] = df_clean[\"Время до метро\"].str.split(\n",
    "    \" \").str[0].copy()"
   ]
  },
  {
   "cell_type": "markdown",
   "id": "5bf32b68-3edb-4a2e-9e30-3faaba6d53b8",
   "metadata": {},
   "source": [
    "## Санузел, Количество лифтов, Балкон/лоджия"
   ]
  },
  {
   "cell_type": "markdown",
   "id": "980226f0-31f2-47ee-a3da-864d48afd66c",
   "metadata": {},
   "source": [
    "Удалим тип санузлов, лифтов и балконов и оставим их количество, чтобы избавиться от большого кол-ва уникальных значений. И преобразуем признаки в числовой тип."
   ]
  },
  {
   "cell_type": "code",
   "execution_count": 20,
   "id": "da900da0-2fdb-41ec-a280-87fe3d94badc",
   "metadata": {},
   "outputs": [],
   "source": [
    "def sum_obj(obj: pd.Series) -> pd.Series:\n",
    "    \"\"\"\n",
    "    Удаление лишней информации из значений признака и преобразование в числовой тип.\n",
    "    :param obj: колонка из дата фрейма.\n",
    "    \"\"\"\n",
    "\n",
    "    temp_obj_1 = pd.to_numeric(obj.str.split(\n",
    "        \" \", expand=True)[0], errors=\"coerce\")\n",
    "    temp_obj_2 = pd.to_numeric(obj.str.split(\n",
    "        \" \", expand=True)[2], errors=\"coerce\")\n",
    "    temp = pd.concat([temp_obj_1, temp_obj_2], axis=1)\n",
    "    temp = temp.sum(axis=1, min_count=1).astype(\"Int64\")\n",
    "    return temp"
   ]
  },
  {
   "cell_type": "code",
   "execution_count": 21,
   "id": "27d515e7-48b0-49e3-8be3-4143efd375f1",
   "metadata": {},
   "outputs": [],
   "source": [
    "df_clean[['Санузел', 'Количество лифтов', \"Балкон/лоджия\"]\n",
    "         ] = df_clean[['Санузел', 'Количество лифтов', \"Балкон/лоджия\"]].apply(sum_obj)"
   ]
  },
  {
   "cell_type": "markdown",
   "id": "a337bf81-201b-4eb2-bbc2-c1e959843881",
   "metadata": {},
   "source": [
    "## Этаж"
   ]
  },
  {
   "cell_type": "markdown",
   "id": "86415dfe-50ad-43e1-8789-3fedfe2a1e77",
   "metadata": {},
   "source": [
    "Разделим этажи на 2 признака: Этаж и Этажность здания."
   ]
  },
  {
   "cell_type": "code",
   "execution_count": 22,
   "id": "a529c6c8-a69b-402a-9cfd-f30b1b1f9c1f",
   "metadata": {},
   "outputs": [],
   "source": [
    "floor = df_clean[\"Этаж\"].str.split(\" из \", expand=True)"
   ]
  },
  {
   "cell_type": "code",
   "execution_count": 23,
   "id": "b1ec979e-a407-47e0-a752-02b1291fa801",
   "metadata": {},
   "outputs": [],
   "source": [
    "df_clean[\"Этаж\"] = floor[0]"
   ]
  },
  {
   "cell_type": "code",
   "execution_count": 24,
   "id": "4255e982-1e92-44fb-a5c3-512e85cc3382",
   "metadata": {},
   "outputs": [],
   "source": [
    "df_clean[\"Этажность здания\"] = floor[1]"
   ]
  },
  {
   "cell_type": "code",
   "execution_count": 25,
   "id": "38a44570-51a6-48c2-99ae-f2c4c2d7aed6",
   "metadata": {},
   "outputs": [],
   "source": [
    "df_clean[\"Этаж\"] = pd.to_numeric(df_clean[\"Этаж\"], errors=\"coerce\")"
   ]
  },
  {
   "cell_type": "markdown",
   "id": "11618183-7871-48b3-9b45-36b72eb42b5a",
   "metadata": {},
   "source": [
    "## Кол-во комнат"
   ]
  },
  {
   "cell_type": "markdown",
   "id": "0f8ba3bb-b362-4aca-bc30-2b4a97ba86de",
   "metadata": {},
   "source": [
    "Добавим признак \"Кол-во комнат\". И так как нас интересуют квартиры с кол-вом комнат до 5 включительно для постоянного проживания, то удалим квартиры с большим кол-вом комнат и апартаменты."
   ]
  },
  {
   "cell_type": "code",
   "execution_count": 26,
   "id": "07cd7e2c-2f1e-477c-8d90-b0d5ef662418",
   "metadata": {},
   "outputs": [],
   "source": [
    "df_clean[\"Кол-во комнат\"] = (\n",
    "    df_clean[\"Название\"].str.split(\" \", expand=True)[\n",
    "        0].str.split(\"-\", expand=True)[0]\n",
    ")"
   ]
  },
  {
   "cell_type": "code",
   "execution_count": 27,
   "id": "3fbfc82f-ece8-4373-8539-ec9e43fc498d",
   "metadata": {
    "scrolled": true
   },
   "outputs": [
    {
     "data": {
      "text/plain": [
       "Кол-во комнат\n",
       "2                 0.327397\n",
       "3                 0.267234\n",
       "1                 0.219210\n",
       "4                 0.082049\n",
       "Апартаменты       0.031189\n",
       "5                 0.029506\n",
       "Студия,           0.028885\n",
       "Многокомнатная    0.012759\n",
       "Многокомнатные    0.001772\n",
       "Name: proportion, dtype: float64"
      ]
     },
     "execution_count": 27,
     "metadata": {},
     "output_type": "execute_result"
    }
   ],
   "source": [
    "df_clean[\"Кол-во комнат\"].value_counts(normalize=True)"
   ]
  },
  {
   "cell_type": "code",
   "execution_count": 28,
   "id": "716a7897-9ea6-4909-89f6-0e4830e5c10e",
   "metadata": {},
   "outputs": [],
   "source": [
    "drop_rooms = (\n",
    "    df_clean[\"Кол-во комнат\"]\n",
    "    .loc[\n",
    "        lambda x: (x == \"Многокомнатная\")\n",
    "        | (x == \"Многокомнатные\")\n",
    "        | (x == \"Апартаменты\")\n",
    "    ]\n",
    "    .index\n",
    ")"
   ]
  },
  {
   "cell_type": "code",
   "execution_count": 29,
   "id": "80d78d37-cf57-436f-a212-db56b3c445e8",
   "metadata": {
    "scrolled": true
   },
   "outputs": [],
   "source": [
    "df_clean = df_clean.drop(index=drop_rooms).copy()"
   ]
  },
  {
   "cell_type": "code",
   "execution_count": 30,
   "id": "14bed681-7e53-4aa8-b2ba-3cccbf859832",
   "metadata": {},
   "outputs": [],
   "source": [
    "df_clean[\"Кол-во комнат\"][df_clean[\"Кол-во комнат\"] == \"Студия,\"] = 1"
   ]
  },
  {
   "cell_type": "code",
   "execution_count": 31,
   "id": "d51ee91f-9e4f-46d0-adb9-aa670724924d",
   "metadata": {},
   "outputs": [],
   "source": [
    "df_clean[\"Год постройки\"] = pd.to_numeric(\n",
    "    df_clean[\"Год постройки\"], errors=\"coerce\")"
   ]
  },
  {
   "cell_type": "markdown",
   "id": "52279e87-ebdc-4062-8335-5f58922a1856",
   "metadata": {},
   "source": [
    "## Тип Жилья"
   ]
  },
  {
   "cell_type": "markdown",
   "id": "b05d0eab-0ae9-4b5a-941f-ca79b99fc9cd",
   "metadata": {},
   "source": [
    "Уберем лишнюю информацию для снижения количества уникальных значений."
   ]
  },
  {
   "cell_type": "code",
   "execution_count": 32,
   "id": "1403d906-a78c-4308-a2e2-c5312ea96708",
   "metadata": {},
   "outputs": [
    {
     "data": {
      "text/plain": [
       "Тип жилья\n",
       "Вторичка                   8151\n",
       "Новостройка                1463\n",
       "Вторичка Апартаменты        860\n",
       "Новостройка Апартаменты     241\n",
       "Вторичка Пентхаус            30\n",
       "Новостройка Пентхаус         25\n",
       "Name: count, dtype: int64"
      ]
     },
     "execution_count": 32,
     "metadata": {},
     "output_type": "execute_result"
    }
   ],
   "source": [
    "df_clean[\"Тип жилья\"].value_counts()"
   ]
  },
  {
   "cell_type": "code",
   "execution_count": 33,
   "id": "e7b3cd91-d2b2-4ed5-924d-e0b5fa80257e",
   "metadata": {},
   "outputs": [],
   "source": [
    "df_clean[\"Тип жилья\"] = df_clean[\"Тип жилья\"].str.split(\" \").str[0]"
   ]
  },
  {
   "cell_type": "markdown",
   "id": "f7e0b56f-e936-4d63-a719-5563d94f2c24",
   "metadata": {},
   "source": [
    "# Заполнение пропусков."
   ]
  },
  {
   "cell_type": "code",
   "execution_count": 34,
   "id": "13ec1a79-44d8-43ee-820e-c2f721d76786",
   "metadata": {},
   "outputs": [
    {
     "name": "stdout",
     "output_type": "stream",
     "text": [
      "<class 'pandas.core.frame.DataFrame'>\n",
      "Index: 10770 entries, 0 to 11285\n",
      "Data columns (total 26 columns):\n",
      " #   Column             Non-Null Count  Dtype  \n",
      "---  ------             --------------  -----  \n",
      " 0   Название           10770 non-null  object \n",
      " 1   Адрес              10770 non-null  object \n",
      " 2   Метро              10770 non-null  object \n",
      " 3   Время до метро     10741 non-null  object \n",
      " 4   Цена               10770 non-null  float64\n",
      " 5   Цена за квадрат    10770 non-null  float64\n",
      " 6   Общая площадь      10770 non-null  float64\n",
      " 7   Жилая площадь      8335 non-null   float64\n",
      " 8   Площадь кухни      9011 non-null   float64\n",
      " 9   Этаж               10770 non-null  int64  \n",
      " 10  Год постройки      8697 non-null   float64\n",
      " 11  Тип жилья          10770 non-null  object \n",
      " 12  Высота потолков    8260 non-null   float64\n",
      " 13  Санузел            9410 non-null   Int64  \n",
      " 14  Вид из окон        8195 non-null   object \n",
      " 15  Ремонт             8696 non-null   object \n",
      " 16  Мусоропровод       4785 non-null   object \n",
      " 17  Количество лифтов  8438 non-null   Int64  \n",
      " 18  Тип дома           8623 non-null   object \n",
      " 19  Тип перекрытий     8080 non-null   object \n",
      " 20  Парковка           6317 non-null   object \n",
      " 21  Отопление          8080 non-null   object \n",
      " 22  Балкон/лоджия      5722 non-null   Int64  \n",
      " 23  Отделка            1558 non-null   object \n",
      " 24  Этажность здания   10770 non-null  object \n",
      " 25  Кол-во комнат      10770 non-null  object \n",
      "dtypes: Int64(3), float64(7), int64(1), object(15)\n",
      "memory usage: 2.2+ MB\n"
     ]
    }
   ],
   "source": [
    "df_clean.info()"
   ]
  },
  {
   "cell_type": "markdown",
   "id": "207afa32-fed1-494b-84bb-f90db44def71",
   "metadata": {},
   "source": [
    "## Жилая площадь, Площадь кухни"
   ]
  },
  {
   "cell_type": "markdown",
   "id": "9f304686-6017-44de-9756-63b1f6e05740",
   "metadata": {},
   "source": [
    "Расчитаем медианное значение соотношения площадей жилых и кухни к общей площади и заполним ими пропуски.\n"
   ]
  },
  {
   "cell_type": "code",
   "execution_count": 35,
   "id": "8585c681-c082-44fa-8351-9af5d347d996",
   "metadata": {},
   "outputs": [],
   "source": [
    "def ar_part(data: pd.DataFrame, col: str, main_col: str):\n",
    "    \"\"\"\n",
    "    Заполнение пропусков в зависимости от отношения площади признака от общей площади.\n",
    "    :param data: датасет\n",
    "    :param col: Название колонки площади необходимого признака.\n",
    "    :param main_col: Название колонки общей площади.\n",
    "    \"\"\"\n",
    "    part = round((data[col] / data[main_col]).median(), 2)\n",
    "    col_new = data[col].fillna(data[main_col] * part)\n",
    "    return col_new"
   ]
  },
  {
   "cell_type": "code",
   "execution_count": 36,
   "id": "c486bff1-83e5-45d1-8c21-f3ff4c83e9f5",
   "metadata": {},
   "outputs": [],
   "source": [
    "for i in df_clean[['Жилая площадь', 'Площадь кухни']]:\n",
    "    df_clean[i] = ar_part(df_clean, i, 'Общая площадь')"
   ]
  },
  {
   "cell_type": "markdown",
   "id": "7984d7ac-62dd-4887-9b50-85c7f702b26a",
   "metadata": {},
   "source": [
    "Расчитаем медианное значение соотношения площади кухни к общей площади и заполним им пропуски.\n"
   ]
  },
  {
   "cell_type": "markdown",
   "id": "9ec0d7e5-b960-4d15-a2ff-ce39e9c17f28",
   "metadata": {},
   "source": [
    "## Год постройки"
   ]
  },
  {
   "cell_type": "markdown",
   "id": "4c2fb506-d39c-4736-8de1-8cdb0bc55ea3",
   "metadata": {},
   "source": [
    "Все пропуски обозначают то что дом еще не сдан, и будет сдан либо в текущем году либо в следующем. Заполню пропуски следющим годом."
   ]
  },
  {
   "cell_type": "code",
   "execution_count": 37,
   "id": "2f5f6d97-6432-4ebc-8836-33a654ea3989",
   "metadata": {},
   "outputs": [],
   "source": [
    "currentYear = datetime.now().year"
   ]
  },
  {
   "cell_type": "code",
   "execution_count": 38,
   "id": "c8c798a8-6b46-499d-9e42-60ad17b73d6b",
   "metadata": {},
   "outputs": [],
   "source": [
    "df_clean[\"Год постройки\"] = df_clean[\"Год постройки\"].fillna(\n",
    "    currentYear + 1).astype(int)"
   ]
  },
  {
   "cell_type": "markdown",
   "id": "3eb82ace-b143-43c2-a97f-662a508fa765",
   "metadata": {},
   "source": [
    "## Санузел , Балкон/лоджия."
   ]
  },
  {
   "cell_type": "code",
   "execution_count": 39,
   "id": "6e018194-00a9-4cf4-94b5-2e47990c5f46",
   "metadata": {},
   "outputs": [],
   "source": [
    "def replace_group(data: pd.DataFrame, main_col: str, col_1: str, col_2: str):\n",
    "    \"\"\"\n",
    "    Заполнение модой через groupby.\n",
    "    :param data: Дата фрейм\n",
    "    :param main_col: Название колонки по которой идет группировка\n",
    "    :param col_1: Название колонки в которой происходит заполнение пустых значений\n",
    "    :param col_2: Название колонки в которой происходит заполнение пустых значений\n",
    "    \"\"\"\n",
    "    for col in data[[col_1, col_2]]:\n",
    "        data[col] = data[col].fillna(\n",
    "            data.groupby(main_col)[col].transform(lambda x: x.mode()[0])\n",
    "        )\n",
    "        data[col] = data[col].astype(int)\n",
    "    data_new = data.copy()\n",
    "    return data_new"
   ]
  },
  {
   "cell_type": "code",
   "execution_count": 40,
   "id": "b4a57f4c-f1b0-4370-b3cf-3481e86bddf0",
   "metadata": {},
   "outputs": [],
   "source": [
    "df_clean = replace_group(df_clean, 'Кол-во комнат',\n",
    "                         'Санузел', 'Балкон/лоджия').copy()"
   ]
  },
  {
   "cell_type": "markdown",
   "id": "9d86cc32-6d5b-4b0b-ae88-11016486fafd",
   "metadata": {},
   "source": [
    "## Количество лифтов"
   ]
  },
  {
   "cell_type": "code",
   "execution_count": 41,
   "id": "afccc68c-ac4f-4713-9608-8c2a17127a71",
   "metadata": {},
   "outputs": [],
   "source": [
    "def replace_elev(row: pd.Series) -> int:\n",
    "    \"\"\"\n",
    "    Заполнение пропусков в признаке кол-во лифтов в зависимости от этажности здания согласно СНиП 31-01-2003\n",
    "    :param row: строка дата фрейма. \n",
    "    \"\"\"\n",
    "\n",
    "    if row[\"Количество лифтов\"] == 0:\n",
    "        floors = int(row[\"Этажность здания\"])\n",
    "        if floors < 6:\n",
    "            return 0\n",
    "        elif floors < 10:\n",
    "            return 1\n",
    "        elif floors < 20:\n",
    "            return 2\n",
    "        elif floors < 25:\n",
    "            return 3\n",
    "        else:\n",
    "            return 4\n",
    "    else:\n",
    "        return row[\"Количество лифтов\"]"
   ]
  },
  {
   "cell_type": "code",
   "execution_count": 42,
   "id": "04925eb3-86e8-4d2d-be8e-6eecd61c1c15",
   "metadata": {},
   "outputs": [],
   "source": [
    "df_clean[\"Количество лифтов\"].fillna(0, inplace=True)"
   ]
  },
  {
   "cell_type": "code",
   "execution_count": 43,
   "id": "77613250-4406-48b1-b891-3fff9a442f1b",
   "metadata": {},
   "outputs": [],
   "source": [
    "df_clean[\"Количество лифтов\"] = df_clean[\"Количество лифтов\"].astype(int)"
   ]
  },
  {
   "cell_type": "code",
   "execution_count": 44,
   "id": "55ca7fd6-5018-4363-acd9-334ba9a032c7",
   "metadata": {},
   "outputs": [],
   "source": [
    "df_clean[\"Этажность здания\"] = df_clean[\"Этажность здания\"].astype(int)"
   ]
  },
  {
   "cell_type": "code",
   "execution_count": 45,
   "id": "8b665477-13cf-4475-96a9-4d55b1971372",
   "metadata": {
    "scrolled": true
   },
   "outputs": [],
   "source": [
    "df_clean[\"Количество лифтов\"] = df_clean.apply(\n",
    "    lambda row: replace_elev(row), axis=1)"
   ]
  },
  {
   "cell_type": "markdown",
   "id": "21304147-79b5-4206-b8d1-9f5bde2da380",
   "metadata": {},
   "source": [
    "## Высота потолков."
   ]
  },
  {
   "cell_type": "markdown",
   "id": "efe0fb21-5509-4bd5-b1d0-70bfe13d0e1b",
   "metadata": {},
   "source": [
    "Заполню медианным значением так как есть выбросы."
   ]
  },
  {
   "cell_type": "code",
   "execution_count": 46,
   "id": "3000b500-ea9f-4a95-8601-83e3d65cd8af",
   "metadata": {},
   "outputs": [],
   "source": [
    "df_clean['Высота потолков'] = df_clean['Высота потолков'].fillna(\n",
    "    df_clean['Высота потолков'].median())"
   ]
  },
  {
   "cell_type": "markdown",
   "id": "071f0dce-25f2-49fd-8992-eef5e25d95f0",
   "metadata": {},
   "source": [
    "## Отделка."
   ]
  },
  {
   "cell_type": "markdown",
   "id": "50ce1907-dfa5-460b-ab3f-f4db4bcb69ed",
   "metadata": {},
   "source": [
    "Здесь много пропусков, и вообще отделка больше относится к новостройкам. Но также есть и вторички, которые продают с голыми стенами, соответственно, отделка здесь уже будет играть роль. Заменю пропуски на \"Неизвестно\"."
   ]
  },
  {
   "cell_type": "code",
   "execution_count": 47,
   "id": "09b1806e-b709-43ab-b2eb-8a58697cd88e",
   "metadata": {},
   "outputs": [
    {
     "data": {
      "text/plain": [
       "Отделка\n",
       "Без отделки           866\n",
       "Чистовая              473\n",
       "Предчистовая           85\n",
       "Неизвестно             53\n",
       "Черновая               43\n",
       "С отделкой             32\n",
       "Под ключ                4\n",
       "Чистовая с мебелью      2\n",
       "Name: count, dtype: int64"
      ]
     },
     "execution_count": 47,
     "metadata": {},
     "output_type": "execute_result"
    }
   ],
   "source": [
    "df_clean['Отделка'].value_counts()"
   ]
  },
  {
   "cell_type": "code",
   "execution_count": 48,
   "id": "47c5b4b0-1a18-488c-a924-eb840f2426eb",
   "metadata": {},
   "outputs": [],
   "source": [
    "df_clean['Отделка'] = df_clean['Отделка'].fillna('Неизвестно')"
   ]
  },
  {
   "cell_type": "markdown",
   "id": "99ba8336-ffd8-4ab6-bfbf-a6ab30028c86",
   "metadata": {},
   "source": [
    "## Другие категориальные признаки."
   ]
  },
  {
   "cell_type": "markdown",
   "id": "aeacc935-27fb-4c8d-9029-7e8fd966518e",
   "metadata": {},
   "source": [
    "Заполню остальные категориальные признаки модой."
   ]
  },
  {
   "cell_type": "code",
   "execution_count": 49,
   "id": "8bfe7aec-eb2f-419f-8d09-7cc7c5c8460a",
   "metadata": {},
   "outputs": [],
   "source": [
    "to_fill = df_clean[['Отопление', 'Вид из окон', 'Ремонт',\n",
    "                    'Тип дома', 'Тип перекрытий', 'Парковка', 'Мусоропровод']]"
   ]
  },
  {
   "cell_type": "code",
   "execution_count": 50,
   "id": "fd90d7c1-0f75-4087-86f6-89c537f286fc",
   "metadata": {},
   "outputs": [],
   "source": [
    "for column in to_fill:\n",
    "    df_clean[column] = df_clean[column].fillna(df_clean[column].mode()[0])"
   ]
  },
  {
   "cell_type": "code",
   "execution_count": 51,
   "id": "389bf026-64d7-4b02-9b95-9d04fcfd6ad4",
   "metadata": {},
   "outputs": [
    {
     "name": "stdout",
     "output_type": "stream",
     "text": [
      "<class 'pandas.core.frame.DataFrame'>\n",
      "Index: 10770 entries, 0 to 11285\n",
      "Data columns (total 26 columns):\n",
      " #   Column             Non-Null Count  Dtype  \n",
      "---  ------             --------------  -----  \n",
      " 0   Название           10770 non-null  object \n",
      " 1   Адрес              10770 non-null  object \n",
      " 2   Метро              10770 non-null  object \n",
      " 3   Время до метро     10741 non-null  object \n",
      " 4   Цена               10770 non-null  float64\n",
      " 5   Цена за квадрат    10770 non-null  float64\n",
      " 6   Общая площадь      10770 non-null  float64\n",
      " 7   Жилая площадь      10770 non-null  float64\n",
      " 8   Площадь кухни      10770 non-null  float64\n",
      " 9   Этаж               10770 non-null  int64  \n",
      " 10  Год постройки      10770 non-null  int32  \n",
      " 11  Тип жилья          10770 non-null  object \n",
      " 12  Высота потолков    10770 non-null  float64\n",
      " 13  Санузел            10770 non-null  int32  \n",
      " 14  Вид из окон        10770 non-null  object \n",
      " 15  Ремонт             10770 non-null  object \n",
      " 16  Мусоропровод       10770 non-null  object \n",
      " 17  Количество лифтов  10770 non-null  int64  \n",
      " 18  Тип дома           10770 non-null  object \n",
      " 19  Тип перекрытий     10770 non-null  object \n",
      " 20  Парковка           10770 non-null  object \n",
      " 21  Отопление          10770 non-null  object \n",
      " 22  Балкон/лоджия      10770 non-null  int32  \n",
      " 23  Отделка            10770 non-null  object \n",
      " 24  Этажность здания   10770 non-null  int32  \n",
      " 25  Кол-во комнат      10770 non-null  object \n",
      "dtypes: float64(6), int32(4), int64(2), object(14)\n",
      "memory usage: 2.1+ MB\n"
     ]
    }
   ],
   "source": [
    "df_clean.info()"
   ]
  },
  {
   "cell_type": "code",
   "execution_count": 52,
   "id": "3b6bc51c-4f67-466e-8bbc-8c5ef77a00f3",
   "metadata": {},
   "outputs": [
    {
     "data": {
      "text/html": [
       "<div>\n",
       "<style scoped>\n",
       "    .dataframe tbody tr th:only-of-type {\n",
       "        vertical-align: middle;\n",
       "    }\n",
       "\n",
       "    .dataframe tbody tr th {\n",
       "        vertical-align: top;\n",
       "    }\n",
       "\n",
       "    .dataframe thead th {\n",
       "        text-align: right;\n",
       "    }\n",
       "</style>\n",
       "<table border=\"1\" class=\"dataframe\">\n",
       "  <thead>\n",
       "    <tr style=\"text-align: right;\">\n",
       "      <th></th>\n",
       "      <th>Цена</th>\n",
       "      <th>Цена за квадрат</th>\n",
       "      <th>Общая площадь</th>\n",
       "      <th>Жилая площадь</th>\n",
       "      <th>Площадь кухни</th>\n",
       "      <th>Этаж</th>\n",
       "      <th>Год постройки</th>\n",
       "      <th>Высота потолков</th>\n",
       "      <th>Санузел</th>\n",
       "      <th>Количество лифтов</th>\n",
       "      <th>Балкон/лоджия</th>\n",
       "      <th>Этажность здания</th>\n",
       "    </tr>\n",
       "  </thead>\n",
       "  <tbody>\n",
       "    <tr>\n",
       "      <th>count</th>\n",
       "      <td>1.077000e+04</td>\n",
       "      <td>1.077000e+04</td>\n",
       "      <td>10770.000000</td>\n",
       "      <td>10770.000000</td>\n",
       "      <td>10770.000000</td>\n",
       "      <td>10770.00000</td>\n",
       "      <td>10770.000000</td>\n",
       "      <td>10770.000000</td>\n",
       "      <td>10770.000000</td>\n",
       "      <td>10770.000000</td>\n",
       "      <td>10770.000000</td>\n",
       "      <td>10770.000000</td>\n",
       "    </tr>\n",
       "    <tr>\n",
       "      <th>mean</th>\n",
       "      <td>4.510718e+07</td>\n",
       "      <td>4.847462e+05</td>\n",
       "      <td>72.035758</td>\n",
       "      <td>42.174459</td>\n",
       "      <td>12.423137</td>\n",
       "      <td>8.24689</td>\n",
       "      <td>1991.203621</td>\n",
       "      <td>2.927214</td>\n",
       "      <td>1.353853</td>\n",
       "      <td>2.026091</td>\n",
       "      <td>1.100371</td>\n",
       "      <td>15.865645</td>\n",
       "    </tr>\n",
       "    <tr>\n",
       "      <th>std</th>\n",
       "      <td>8.712656e+07</td>\n",
       "      <td>3.715369e+05</td>\n",
       "      <td>50.391795</td>\n",
       "      <td>31.166966</td>\n",
       "      <td>8.646902</td>\n",
       "      <td>7.77206</td>\n",
       "      <td>32.997202</td>\n",
       "      <td>0.605261</td>\n",
       "      <td>0.675264</td>\n",
       "      <td>1.586918</td>\n",
       "      <td>0.360108</td>\n",
       "      <td>11.660513</td>\n",
       "    </tr>\n",
       "    <tr>\n",
       "      <th>min</th>\n",
       "      <td>2.390000e+06</td>\n",
       "      <td>7.350900e+04</td>\n",
       "      <td>11.000000</td>\n",
       "      <td>3.000000</td>\n",
       "      <td>1.000000</td>\n",
       "      <td>-1.00000</td>\n",
       "      <td>1822.000000</td>\n",
       "      <td>0.000000</td>\n",
       "      <td>1.000000</td>\n",
       "      <td>0.000000</td>\n",
       "      <td>1.000000</td>\n",
       "      <td>2.000000</td>\n",
       "    </tr>\n",
       "    <tr>\n",
       "      <th>25%</th>\n",
       "      <td>1.350000e+07</td>\n",
       "      <td>2.900000e+05</td>\n",
       "      <td>42.000000</td>\n",
       "      <td>22.800000</td>\n",
       "      <td>7.064350</td>\n",
       "      <td>3.00000</td>\n",
       "      <td>1968.000000</td>\n",
       "      <td>2.700000</td>\n",
       "      <td>1.000000</td>\n",
       "      <td>1.000000</td>\n",
       "      <td>1.000000</td>\n",
       "      <td>9.000000</td>\n",
       "    </tr>\n",
       "    <tr>\n",
       "      <th>50%</th>\n",
       "      <td>1.990000e+07</td>\n",
       "      <td>3.678160e+05</td>\n",
       "      <td>58.000000</td>\n",
       "      <td>33.400000</td>\n",
       "      <td>10.000000</td>\n",
       "      <td>6.00000</td>\n",
       "      <td>2002.000000</td>\n",
       "      <td>2.850000</td>\n",
       "      <td>1.000000</td>\n",
       "      <td>2.000000</td>\n",
       "      <td>1.000000</td>\n",
       "      <td>12.000000</td>\n",
       "    </tr>\n",
       "    <tr>\n",
       "      <th>75%</th>\n",
       "      <td>3.794350e+07</td>\n",
       "      <td>5.143032e+05</td>\n",
       "      <td>82.000000</td>\n",
       "      <td>49.400525</td>\n",
       "      <td>15.000000</td>\n",
       "      <td>11.00000</td>\n",
       "      <td>2022.000000</td>\n",
       "      <td>3.000000</td>\n",
       "      <td>2.000000</td>\n",
       "      <td>3.000000</td>\n",
       "      <td>1.000000</td>\n",
       "      <td>20.000000</td>\n",
       "    </tr>\n",
       "    <tr>\n",
       "      <th>max</th>\n",
       "      <td>1.910410e+09</td>\n",
       "      <td>4.998082e+06</td>\n",
       "      <td>705.000000</td>\n",
       "      <td>450.000000</td>\n",
       "      <td>136.500000</td>\n",
       "      <td>92.00000</td>\n",
       "      <td>2024.000000</td>\n",
       "      <td>31.000000</td>\n",
       "      <td>7.000000</td>\n",
       "      <td>28.000000</td>\n",
       "      <td>6.000000</td>\n",
       "      <td>95.000000</td>\n",
       "    </tr>\n",
       "  </tbody>\n",
       "</table>\n",
       "</div>"
      ],
      "text/plain": [
       "               Цена  Цена за квадрат  Общая площадь  Жилая площадь  \\\n",
       "count  1.077000e+04     1.077000e+04   10770.000000   10770.000000   \n",
       "mean   4.510718e+07     4.847462e+05      72.035758      42.174459   \n",
       "std    8.712656e+07     3.715369e+05      50.391795      31.166966   \n",
       "min    2.390000e+06     7.350900e+04      11.000000       3.000000   \n",
       "25%    1.350000e+07     2.900000e+05      42.000000      22.800000   \n",
       "50%    1.990000e+07     3.678160e+05      58.000000      33.400000   \n",
       "75%    3.794350e+07     5.143032e+05      82.000000      49.400525   \n",
       "max    1.910410e+09     4.998082e+06     705.000000     450.000000   \n",
       "\n",
       "       Площадь кухни         Этаж  Год постройки  Высота потолков  \\\n",
       "count   10770.000000  10770.00000   10770.000000     10770.000000   \n",
       "mean       12.423137      8.24689    1991.203621         2.927214   \n",
       "std         8.646902      7.77206      32.997202         0.605261   \n",
       "min         1.000000     -1.00000    1822.000000         0.000000   \n",
       "25%         7.064350      3.00000    1968.000000         2.700000   \n",
       "50%        10.000000      6.00000    2002.000000         2.850000   \n",
       "75%        15.000000     11.00000    2022.000000         3.000000   \n",
       "max       136.500000     92.00000    2024.000000        31.000000   \n",
       "\n",
       "            Санузел  Количество лифтов  Балкон/лоджия  Этажность здания  \n",
       "count  10770.000000       10770.000000   10770.000000      10770.000000  \n",
       "mean       1.353853           2.026091       1.100371         15.865645  \n",
       "std        0.675264           1.586918       0.360108         11.660513  \n",
       "min        1.000000           0.000000       1.000000          2.000000  \n",
       "25%        1.000000           1.000000       1.000000          9.000000  \n",
       "50%        1.000000           2.000000       1.000000         12.000000  \n",
       "75%        2.000000           3.000000       1.000000         20.000000  \n",
       "max        7.000000          28.000000       6.000000         95.000000  "
      ]
     },
     "execution_count": 52,
     "metadata": {},
     "output_type": "execute_result"
    }
   ],
   "source": [
    "df_clean.describe()"
   ]
  },
  {
   "cell_type": "markdown",
   "id": "a2973652-1c5b-4c12-bffc-b0c445528f30",
   "metadata": {},
   "source": [
    "Удалим аномалии в данных: все отрицательные значения и значения меньше 2 в \"Высота потолков\"."
   ]
  },
  {
   "cell_type": "code",
   "execution_count": 53,
   "id": "adc307c4-9252-487b-9de7-c52b1337a810",
   "metadata": {},
   "outputs": [],
   "source": [
    "df_num = df_clean.select_dtypes(include=np.number)"
   ]
  },
  {
   "cell_type": "code",
   "execution_count": 54,
   "id": "ac2c04da-f619-4390-bfcf-2c39fbfc9e60",
   "metadata": {
    "scrolled": true
   },
   "outputs": [],
   "source": [
    "drop_neg = []\n",
    "for i, j in df_num.iterrows():\n",
    "    for k in j:\n",
    "        if k < 0:\n",
    "            drop_neg.append(i)"
   ]
  },
  {
   "cell_type": "code",
   "execution_count": 55,
   "id": "c00a2af2-7e93-41b1-b948-471b5d555773",
   "metadata": {},
   "outputs": [],
   "source": [
    "drop_neg += df_clean[df_clean['Высота потолков'] < 2].index.tolist()"
   ]
  },
  {
   "cell_type": "code",
   "execution_count": 56,
   "id": "29cc0b72-519c-4e9f-b4b3-0da9702ec31a",
   "metadata": {
    "scrolled": true
   },
   "outputs": [],
   "source": [
    "df_fin = df_clean.drop(index=drop_neg)"
   ]
  },
  {
   "cell_type": "code",
   "execution_count": 57,
   "id": "6c6ff0bf-6a0f-4123-a4fb-4fb2c0eddce0",
   "metadata": {},
   "outputs": [],
   "source": [
    "df_fin = df_fin.reset_index(drop=True)"
   ]
  },
  {
   "cell_type": "code",
   "execution_count": 58,
   "id": "d0cfebdb-f73a-444b-a722-a96e2f521d29",
   "metadata": {},
   "outputs": [
    {
     "name": "stdout",
     "output_type": "stream",
     "text": [
      "<class 'pandas.core.frame.DataFrame'>\n",
      "RangeIndex: 10767 entries, 0 to 10766\n",
      "Data columns (total 26 columns):\n",
      " #   Column             Non-Null Count  Dtype  \n",
      "---  ------             --------------  -----  \n",
      " 0   Название           10767 non-null  object \n",
      " 1   Адрес              10767 non-null  object \n",
      " 2   Метро              10767 non-null  object \n",
      " 3   Время до метро     10738 non-null  object \n",
      " 4   Цена               10767 non-null  float64\n",
      " 5   Цена за квадрат    10767 non-null  float64\n",
      " 6   Общая площадь      10767 non-null  float64\n",
      " 7   Жилая площадь      10767 non-null  float64\n",
      " 8   Площадь кухни      10767 non-null  float64\n",
      " 9   Этаж               10767 non-null  int64  \n",
      " 10  Год постройки      10767 non-null  int32  \n",
      " 11  Тип жилья          10767 non-null  object \n",
      " 12  Высота потолков    10767 non-null  float64\n",
      " 13  Санузел            10767 non-null  int32  \n",
      " 14  Вид из окон        10767 non-null  object \n",
      " 15  Ремонт             10767 non-null  object \n",
      " 16  Мусоропровод       10767 non-null  object \n",
      " 17  Количество лифтов  10767 non-null  int64  \n",
      " 18  Тип дома           10767 non-null  object \n",
      " 19  Тип перекрытий     10767 non-null  object \n",
      " 20  Парковка           10767 non-null  object \n",
      " 21  Отопление          10767 non-null  object \n",
      " 22  Балкон/лоджия      10767 non-null  int32  \n",
      " 23  Отделка            10767 non-null  object \n",
      " 24  Этажность здания   10767 non-null  int32  \n",
      " 25  Кол-во комнат      10767 non-null  object \n",
      "dtypes: float64(6), int32(4), int64(2), object(14)\n",
      "memory usage: 2.0+ MB\n"
     ]
    }
   ],
   "source": [
    "df_fin.info()"
   ]
  },
  {
   "cell_type": "markdown",
   "id": "240cbd2b-b44d-47a4-a0ae-955469945ead",
   "metadata": {},
   "source": [
    "Заполнены все путые значения кроме время до метро. Его заполню дальше после добавления геоданных."
   ]
  },
  {
   "cell_type": "code",
   "execution_count": 59,
   "id": "d954a5d8-a4c9-4f5e-9ea0-57e86d1be4cd",
   "metadata": {},
   "outputs": [
    {
     "data": {
      "text/html": [
       "<div>\n",
       "<style scoped>\n",
       "    .dataframe tbody tr th:only-of-type {\n",
       "        vertical-align: middle;\n",
       "    }\n",
       "\n",
       "    .dataframe tbody tr th {\n",
       "        vertical-align: top;\n",
       "    }\n",
       "\n",
       "    .dataframe thead th {\n",
       "        text-align: right;\n",
       "    }\n",
       "</style>\n",
       "<table border=\"1\" class=\"dataframe\">\n",
       "  <thead>\n",
       "    <tr style=\"text-align: right;\">\n",
       "      <th></th>\n",
       "      <th>Цена</th>\n",
       "      <th>Цена за квадрат</th>\n",
       "      <th>Общая площадь</th>\n",
       "      <th>Жилая площадь</th>\n",
       "      <th>Площадь кухни</th>\n",
       "      <th>Этаж</th>\n",
       "      <th>Год постройки</th>\n",
       "      <th>Высота потолков</th>\n",
       "      <th>Санузел</th>\n",
       "      <th>Количество лифтов</th>\n",
       "      <th>Балкон/лоджия</th>\n",
       "      <th>Этажность здания</th>\n",
       "    </tr>\n",
       "  </thead>\n",
       "  <tbody>\n",
       "    <tr>\n",
       "      <th>count</th>\n",
       "      <td>1.076700e+04</td>\n",
       "      <td>1.076700e+04</td>\n",
       "      <td>10767.000000</td>\n",
       "      <td>10767.000000</td>\n",
       "      <td>10767.000000</td>\n",
       "      <td>10767.000000</td>\n",
       "      <td>10767.000000</td>\n",
       "      <td>10767.000000</td>\n",
       "      <td>10767.000000</td>\n",
       "      <td>10767.000000</td>\n",
       "      <td>10767.000000</td>\n",
       "      <td>10767.000000</td>\n",
       "    </tr>\n",
       "    <tr>\n",
       "      <th>mean</th>\n",
       "      <td>4.511170e+07</td>\n",
       "      <td>4.847918e+05</td>\n",
       "      <td>72.032823</td>\n",
       "      <td>42.171332</td>\n",
       "      <td>12.423812</td>\n",
       "      <td>8.248073</td>\n",
       "      <td>1991.220581</td>\n",
       "      <td>2.927765</td>\n",
       "      <td>1.353859</td>\n",
       "      <td>2.026470</td>\n",
       "      <td>1.100399</td>\n",
       "      <td>15.867837</td>\n",
       "    </tr>\n",
       "    <tr>\n",
       "      <th>std</th>\n",
       "      <td>8.713723e+07</td>\n",
       "      <td>3.715630e+05</td>\n",
       "      <td>50.396540</td>\n",
       "      <td>31.169376</td>\n",
       "      <td>8.647969</td>\n",
       "      <td>7.772449</td>\n",
       "      <td>32.983058</td>\n",
       "      <td>0.604028</td>\n",
       "      <td>0.675312</td>\n",
       "      <td>1.586957</td>\n",
       "      <td>0.360154</td>\n",
       "      <td>11.661294</td>\n",
       "    </tr>\n",
       "    <tr>\n",
       "      <th>min</th>\n",
       "      <td>2.390000e+06</td>\n",
       "      <td>7.350900e+04</td>\n",
       "      <td>11.000000</td>\n",
       "      <td>3.000000</td>\n",
       "      <td>1.000000</td>\n",
       "      <td>1.000000</td>\n",
       "      <td>1822.000000</td>\n",
       "      <td>2.000000</td>\n",
       "      <td>1.000000</td>\n",
       "      <td>0.000000</td>\n",
       "      <td>1.000000</td>\n",
       "      <td>2.000000</td>\n",
       "    </tr>\n",
       "    <tr>\n",
       "      <th>25%</th>\n",
       "      <td>1.350000e+07</td>\n",
       "      <td>2.900000e+05</td>\n",
       "      <td>42.000000</td>\n",
       "      <td>22.800000</td>\n",
       "      <td>7.058400</td>\n",
       "      <td>3.000000</td>\n",
       "      <td>1968.000000</td>\n",
       "      <td>2.700000</td>\n",
       "      <td>1.000000</td>\n",
       "      <td>1.000000</td>\n",
       "      <td>1.000000</td>\n",
       "      <td>9.000000</td>\n",
       "    </tr>\n",
       "    <tr>\n",
       "      <th>50%</th>\n",
       "      <td>1.990000e+07</td>\n",
       "      <td>3.678160e+05</td>\n",
       "      <td>58.000000</td>\n",
       "      <td>33.400000</td>\n",
       "      <td>10.000000</td>\n",
       "      <td>6.000000</td>\n",
       "      <td>2002.000000</td>\n",
       "      <td>2.850000</td>\n",
       "      <td>1.000000</td>\n",
       "      <td>2.000000</td>\n",
       "      <td>1.000000</td>\n",
       "      <td>12.000000</td>\n",
       "    </tr>\n",
       "    <tr>\n",
       "      <th>75%</th>\n",
       "      <td>3.792900e+07</td>\n",
       "      <td>5.142975e+05</td>\n",
       "      <td>82.000000</td>\n",
       "      <td>49.400000</td>\n",
       "      <td>15.000000</td>\n",
       "      <td>11.000000</td>\n",
       "      <td>2022.000000</td>\n",
       "      <td>3.000000</td>\n",
       "      <td>2.000000</td>\n",
       "      <td>3.000000</td>\n",
       "      <td>1.000000</td>\n",
       "      <td>20.000000</td>\n",
       "    </tr>\n",
       "    <tr>\n",
       "      <th>max</th>\n",
       "      <td>1.910410e+09</td>\n",
       "      <td>4.998082e+06</td>\n",
       "      <td>705.000000</td>\n",
       "      <td>450.000000</td>\n",
       "      <td>136.500000</td>\n",
       "      <td>92.000000</td>\n",
       "      <td>2024.000000</td>\n",
       "      <td>31.000000</td>\n",
       "      <td>7.000000</td>\n",
       "      <td>28.000000</td>\n",
       "      <td>6.000000</td>\n",
       "      <td>95.000000</td>\n",
       "    </tr>\n",
       "  </tbody>\n",
       "</table>\n",
       "</div>"
      ],
      "text/plain": [
       "               Цена  Цена за квадрат  Общая площадь  Жилая площадь  \\\n",
       "count  1.076700e+04     1.076700e+04   10767.000000   10767.000000   \n",
       "mean   4.511170e+07     4.847918e+05      72.032823      42.171332   \n",
       "std    8.713723e+07     3.715630e+05      50.396540      31.169376   \n",
       "min    2.390000e+06     7.350900e+04      11.000000       3.000000   \n",
       "25%    1.350000e+07     2.900000e+05      42.000000      22.800000   \n",
       "50%    1.990000e+07     3.678160e+05      58.000000      33.400000   \n",
       "75%    3.792900e+07     5.142975e+05      82.000000      49.400000   \n",
       "max    1.910410e+09     4.998082e+06     705.000000     450.000000   \n",
       "\n",
       "       Площадь кухни          Этаж  Год постройки  Высота потолков  \\\n",
       "count   10767.000000  10767.000000   10767.000000     10767.000000   \n",
       "mean       12.423812      8.248073    1991.220581         2.927765   \n",
       "std         8.647969      7.772449      32.983058         0.604028   \n",
       "min         1.000000      1.000000    1822.000000         2.000000   \n",
       "25%         7.058400      3.000000    1968.000000         2.700000   \n",
       "50%        10.000000      6.000000    2002.000000         2.850000   \n",
       "75%        15.000000     11.000000    2022.000000         3.000000   \n",
       "max       136.500000     92.000000    2024.000000        31.000000   \n",
       "\n",
       "            Санузел  Количество лифтов  Балкон/лоджия  Этажность здания  \n",
       "count  10767.000000       10767.000000   10767.000000      10767.000000  \n",
       "mean       1.353859           2.026470       1.100399         15.867837  \n",
       "std        0.675312           1.586957       0.360154         11.661294  \n",
       "min        1.000000           0.000000       1.000000          2.000000  \n",
       "25%        1.000000           1.000000       1.000000          9.000000  \n",
       "50%        1.000000           2.000000       1.000000         12.000000  \n",
       "75%        2.000000           3.000000       1.000000         20.000000  \n",
       "max        7.000000          28.000000       6.000000         95.000000  "
      ]
     },
     "execution_count": 59,
     "metadata": {},
     "output_type": "execute_result"
    }
   ],
   "source": [
    "df_fin.describe()"
   ]
  },
  {
   "cell_type": "code",
   "execution_count": 60,
   "id": "279e91c6-2045-4298-944d-ff3a87b38d37",
   "metadata": {},
   "outputs": [
    {
     "data": {
      "text/html": [
       "<div>\n",
       "<style scoped>\n",
       "    .dataframe tbody tr th:only-of-type {\n",
       "        vertical-align: middle;\n",
       "    }\n",
       "\n",
       "    .dataframe tbody tr th {\n",
       "        vertical-align: top;\n",
       "    }\n",
       "\n",
       "    .dataframe thead th {\n",
       "        text-align: right;\n",
       "    }\n",
       "</style>\n",
       "<table border=\"1\" class=\"dataframe\">\n",
       "  <thead>\n",
       "    <tr style=\"text-align: right;\">\n",
       "      <th></th>\n",
       "      <th>Название</th>\n",
       "      <th>Адрес</th>\n",
       "      <th>Метро</th>\n",
       "      <th>Время до метро</th>\n",
       "      <th>Тип жилья</th>\n",
       "      <th>Вид из окон</th>\n",
       "      <th>Ремонт</th>\n",
       "      <th>Мусоропровод</th>\n",
       "      <th>Тип дома</th>\n",
       "      <th>Тип перекрытий</th>\n",
       "      <th>Парковка</th>\n",
       "      <th>Отопление</th>\n",
       "      <th>Отделка</th>\n",
       "      <th>Кол-во комнат</th>\n",
       "    </tr>\n",
       "  </thead>\n",
       "  <tbody>\n",
       "    <tr>\n",
       "      <th>count</th>\n",
       "      <td>10767</td>\n",
       "      <td>10767</td>\n",
       "      <td>10767</td>\n",
       "      <td>10738</td>\n",
       "      <td>10767</td>\n",
       "      <td>10767</td>\n",
       "      <td>10767</td>\n",
       "      <td>10767</td>\n",
       "      <td>10767</td>\n",
       "      <td>10767</td>\n",
       "      <td>10767</td>\n",
       "      <td>10767</td>\n",
       "      <td>10767</td>\n",
       "      <td>10767</td>\n",
       "    </tr>\n",
       "    <tr>\n",
       "      <th>unique</th>\n",
       "      <td>3418</td>\n",
       "      <td>5993</td>\n",
       "      <td>295</td>\n",
       "      <td>30</td>\n",
       "      <td>2</td>\n",
       "      <td>3</td>\n",
       "      <td>4</td>\n",
       "      <td>2</td>\n",
       "      <td>7</td>\n",
       "      <td>4</td>\n",
       "      <td>4</td>\n",
       "      <td>7</td>\n",
       "      <td>8</td>\n",
       "      <td>6</td>\n",
       "    </tr>\n",
       "    <tr>\n",
       "      <th>top</th>\n",
       "      <td>2-комн. квартира, 45 м²</td>\n",
       "      <td>Москва, ЦАО, р-н Пресненский, 1-й Красногварде...</td>\n",
       "      <td>Арбатская</td>\n",
       "      <td>6</td>\n",
       "      <td>Вторичка</td>\n",
       "      <td>Во двор</td>\n",
       "      <td>Косметический</td>\n",
       "      <td>Да</td>\n",
       "      <td>Монолитный</td>\n",
       "      <td>Железобетонные</td>\n",
       "      <td>Наземная</td>\n",
       "      <td>Центральное</td>\n",
       "      <td>Неизвестно</td>\n",
       "      <td>2</td>\n",
       "    </tr>\n",
       "    <tr>\n",
       "      <th>freq</th>\n",
       "      <td>130</td>\n",
       "      <td>33</td>\n",
       "      <td>136</td>\n",
       "      <td>882</td>\n",
       "      <td>9038</td>\n",
       "      <td>6721</td>\n",
       "      <td>4960</td>\n",
       "      <td>9815</td>\n",
       "      <td>5960</td>\n",
       "      <td>8615</td>\n",
       "      <td>7830</td>\n",
       "      <td>9371</td>\n",
       "      <td>9262</td>\n",
       "      <td>3694</td>\n",
       "    </tr>\n",
       "  </tbody>\n",
       "</table>\n",
       "</div>"
      ],
      "text/plain": [
       "                       Название  \\\n",
       "count                     10767   \n",
       "unique                     3418   \n",
       "top     2-комн. квартира, 45 м²   \n",
       "freq                        130   \n",
       "\n",
       "                                                    Адрес      Метро  \\\n",
       "count                                               10767      10767   \n",
       "unique                                               5993        295   \n",
       "top     Москва, ЦАО, р-н Пресненский, 1-й Красногварде...  Арбатская   \n",
       "freq                                                   33        136   \n",
       "\n",
       "       Время до метро Тип жилья Вид из окон         Ремонт Мусоропровод  \\\n",
       "count           10738     10767       10767          10767        10767   \n",
       "unique             30         2           3              4            2   \n",
       "top                 6  Вторичка     Во двор  Косметический           Да   \n",
       "freq              882      9038        6721           4960         9815   \n",
       "\n",
       "          Тип дома  Тип перекрытий  Парковка    Отопление     Отделка  \\\n",
       "count        10767           10767     10767        10767       10767   \n",
       "unique           7               4         4            7           8   \n",
       "top     Монолитный  Железобетонные  Наземная  Центральное  Неизвестно   \n",
       "freq          5960            8615      7830         9371        9262   \n",
       "\n",
       "       Кол-во комнат  \n",
       "count          10767  \n",
       "unique             6  \n",
       "top                2  \n",
       "freq            3694  "
      ]
     },
     "execution_count": 60,
     "metadata": {},
     "output_type": "execute_result"
    }
   ],
   "source": [
    "df_fin.describe(include=['bool', 'object'])"
   ]
  },
  {
   "cell_type": "code",
   "execution_count": 61,
   "id": "ce9ef0b1-23aa-440d-aae5-be773be10f95",
   "metadata": {},
   "outputs": [],
   "source": [
    "df_fin.to_csv(\"data\\cian_clean.csv\", index=False)"
   ]
  }
 ],
 "metadata": {
  "kernelspec": {
   "display_name": "Python 3 (ipykernel)",
   "language": "python",
   "name": "python3"
  },
  "language_info": {
   "codemirror_mode": {
    "name": "ipython",
    "version": 3
   },
   "file_extension": ".py",
   "mimetype": "text/x-python",
   "name": "python",
   "nbconvert_exporter": "python",
   "pygments_lexer": "ipython3",
   "version": "3.11.5"
  },
  "toc": {
   "base_numbering": 1,
   "nav_menu": {},
   "number_sections": true,
   "sideBar": true,
   "skip_h1_title": false,
   "title_cell": "Table of Contents",
   "title_sidebar": "Contents",
   "toc_cell": false,
   "toc_position": {},
   "toc_section_display": true,
   "toc_window_display": false
  }
 },
 "nbformat": 4,
 "nbformat_minor": 5
}
